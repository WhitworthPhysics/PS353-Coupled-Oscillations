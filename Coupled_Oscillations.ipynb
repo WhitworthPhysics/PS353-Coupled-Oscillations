{
  "nbformat": 4,
  "nbformat_minor": 0,
  "metadata": {
    "colab": {
      "name": "Coupled Oscillations.ipynb",
      "provenance": [],
      "authorship_tag": "ABX9TyNKauilPusRIB1kVQV1FRIp"
    },
    "kernelspec": {
      "name": "python3",
      "display_name": "Python 3"
    },
    "language_info": {
      "name": "python"
    }
  },
  "cells": [
    {
      "cell_type": "markdown",
      "source": [
        "**Work was done by:** \n",
        "\n",
        "**Data was collected on:**"
      ],
      "metadata": {
        "id": "KKeT-DrXVvfv"
      }
    },
    {
      "cell_type": "markdown",
      "source": [
        "# Install and import libraries"
      ],
      "metadata": {
        "id": "KoV5ac5AVyFg"
      }
    },
    {
      "cell_type": "code",
      "execution_count": null,
      "metadata": {
        "id": "J1pDasMJVt-J"
      },
      "outputs": [],
      "source": [
        "!pip install whit-phys-util 1>/dev/null"
      ]
    },
    {
      "cell_type": "code",
      "source": [
        "import numpy as np\n",
        "import pandas as pd\n",
        "import matplotlib.pyplot as plt\n",
        "import whit_phys_util as buc\n",
        "from sympy import symbols, Matrix\n",
        "from scipy.fft import fft\n",
        "from numpy import pi, sqrt, abs, sin"
      ],
      "metadata": {
        "id": "84c7TBfsV2hQ"
      },
      "execution_count": null,
      "outputs": []
    },
    {
      "cell_type": "markdown",
      "source": [
        "# Connect to GitHub"
      ],
      "metadata": {
        "id": "H78vjdK2WVwS"
      }
    },
    {
      "cell_type": "code",
      "source": [
        "repo = buc.local_repository(\"replace me\")"
      ],
      "metadata": {
        "id": "r2MGe0QVWXXX"
      },
      "execution_count": null,
      "outputs": []
    },
    {
      "cell_type": "markdown",
      "source": [
        "# Equipment\n",
        "| Description | Manufacturer | Model | ID or SN |\n",
        "| ----------- | ------------ | ----- | -------- |\n",
        "|  |  | | |\n"
      ],
      "metadata": {
        "id": "XytEZDcmWZsL"
      }
    },
    {
      "cell_type": "code",
      "source": [
        ""
      ],
      "metadata": {
        "id": "HS67p0AFWcY5"
      },
      "execution_count": null,
      "outputs": []
    },
    {
      "cell_type": "markdown",
      "source": [
        "# Procedure"
      ],
      "metadata": {
        "id": "NH4UhYRzWnhH"
      }
    },
    {
      "cell_type": "code",
      "source": [
        ""
      ],
      "metadata": {
        "id": "7srYfyBOWojg"
      },
      "execution_count": null,
      "outputs": []
    },
    {
      "cell_type": "markdown",
      "source": [
        "# Data"
      ],
      "metadata": {
        "id": "9TekjamJWqno"
      }
    },
    {
      "cell_type": "code",
      "source": [
        ""
      ],
      "metadata": {
        "id": "W_B32o24WrUo"
      },
      "execution_count": null,
      "outputs": []
    },
    {
      "cell_type": "markdown",
      "source": [
        "# Theoretical Eigenvalues and Eigenvectors"
      ],
      "metadata": {
        "id": "wghtmKRJWzD2"
      }
    },
    {
      "cell_type": "code",
      "source": [
        ""
      ],
      "metadata": {
        "id": "PjjZMOYdW9PT"
      },
      "execution_count": null,
      "outputs": []
    },
    {
      "cell_type": "markdown",
      "source": [
        "# Measured Normal Frequencies"
      ],
      "metadata": {
        "id": "2MODy6eOWr3E"
      }
    },
    {
      "cell_type": "code",
      "source": [
        ""
      ],
      "metadata": {
        "id": "65WLx-3GWtIh"
      },
      "execution_count": null,
      "outputs": []
    },
    {
      "cell_type": "markdown",
      "source": [
        "# Conclusion"
      ],
      "metadata": {
        "id": "eZVKG3AjWtvw"
      }
    }
  ]
}